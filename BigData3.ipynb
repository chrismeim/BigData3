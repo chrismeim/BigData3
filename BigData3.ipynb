import numpy as np

list1 = [1,2,3]
np.sum(list1)






